{
  "nbformat": 4,
  "nbformat_minor": 0,
  "metadata": {
    "colab": {
      "provenance": [],
      "collapsed_sections": []
    },
    "kernelspec": {
      "name": "python3",
      "display_name": "Python 3"
    },
    "language_info": {
      "name": "python"
    }
  },
  "cells": [
    {
      "cell_type": "markdown",
      "source": [
        "Categorias de Imagens\n",
        "\n"
      ],
      "metadata": {
        "id": "geNBF3ArBaks"
      }
    },
    {
      "cell_type": "code",
      "source": [
        "import pandas as pd\n",
        "import matplotlib.pyplot as plt\n",
        "from keras.datasets import fashion_mnist\n",
        "from keras.models import Sequential\n",
        "from keras.layers import Input, Dense\n",
        "from keras.utils import to_categorical\n",
        "import numpy as np"
      ],
      "metadata": {
        "id": "ynWvKXKRBhC2"
      },
      "execution_count": 16,
      "outputs": []
    },
    {
      "cell_type": "code",
      "source": [
        "dataset = fashion_mnist.load_data()"
      ],
      "metadata": {
        "colab": {
          "base_uri": "https://localhost:8080/"
        },
        "id": "KeFD_YeNB2n5",
        "outputId": "8fdc73d2-9889-49b2-e68d-ecee07c1f7ef"
      },
      "execution_count": 2,
      "outputs": [
        {
          "output_type": "stream",
          "name": "stdout",
          "text": [
            "Downloading data from https://storage.googleapis.com/tensorflow/tf-keras-datasets/train-labels-idx1-ubyte.gz\n",
            "29515/29515 [==============================] - 0s 0us/step\n",
            "Downloading data from https://storage.googleapis.com/tensorflow/tf-keras-datasets/train-images-idx3-ubyte.gz\n",
            "26421880/26421880 [==============================] - 0s 0us/step\n",
            "Downloading data from https://storage.googleapis.com/tensorflow/tf-keras-datasets/t10k-labels-idx1-ubyte.gz\n",
            "5148/5148 [==============================] - 0s 0us/step\n",
            "Downloading data from https://storage.googleapis.com/tensorflow/tf-keras-datasets/t10k-images-idx3-ubyte.gz\n",
            "4422102/4422102 [==============================] - 0s 0us/step\n"
          ]
        }
      ]
    },
    {
      "cell_type": "code",
      "source": [
        "dataset[0][0].shape"
      ],
      "metadata": {
        "colab": {
          "base_uri": "https://localhost:8080/"
        },
        "id": "Op622uHQB9ww",
        "outputId": "3f2c9b2c-c273-4cc1-914c-62b979307c8c"
      },
      "execution_count": 4,
      "outputs": [
        {
          "output_type": "execute_result",
          "data": {
            "text/plain": [
              "(60000, 28, 28)"
            ]
          },
          "metadata": {},
          "execution_count": 4
        }
      ]
    },
    {
      "cell_type": "code",
      "source": [
        "plt.imshow(dataset[0][0][0])"
      ],
      "metadata": {
        "colab": {
          "base_uri": "https://localhost:8080/",
          "height": 282
        },
        "id": "TExzPkUjCrdg",
        "outputId": "e5c8c58f-a6fb-4801-846f-a6f655627646"
      },
      "execution_count": 6,
      "outputs": [
        {
          "output_type": "execute_result",
          "data": {
            "text/plain": [
              "<matplotlib.image.AxesImage at 0x7fbb318077d0>"
            ]
          },
          "metadata": {},
          "execution_count": 6
        },
        {
          "output_type": "display_data",
          "data": {
            "text/plain": [
              "<Figure size 432x288 with 1 Axes>"
            ],
            "image/png": "[encoded data removed]"
          },
          "metadata": {
            "needs_background": "light"
          }
        }
      ]
    },
    {
      "cell_type": "code",
      "source": [
        "qtd_amostras = len(dataset[0][0])\n",
        "qtd_linhas = dataset[0][0][0].shape[0]\n",
        "qtd_colunas = dataset[0][0][0].shape[1]\n",
        "                         \n",
        "x_treino = dataset[0][0].reshape(qtd_amostras, qtd_linhas*qtd_colunas)"
      ],
      "metadata": {
        "id": "qoWlWgo8Ep5W"
      },
      "execution_count": 11,
      "outputs": []
    },
    {
      "cell_type": "code",
      "source": [
        "qtd_amostras = len(dataset[1][0])\n",
        "qtd_linhas = dataset[1][0][0].shape[0]\n",
        "qtd_colunas = dataset[1][0][0].shape[1]\n",
        "                         \n",
        "x_teste = dataset[1][0].reshape(qtd_amostras, qtd_linhas*qtd_colunas)"
      ],
      "metadata": {
        "id": "PDbhmkgqFPcw"
      },
      "execution_count": 12,
      "outputs": []
    },
    {
      "cell_type": "code",
      "source": [
        "x_treino.shape"
      ],
      "metadata": {
        "colab": {
          "base_uri": "https://localhost:8080/"
        },
        "id": "3r7BAE_WFbbh",
        "outputId": "a2c4cd70-05d9-406a-eba6-dd37917c6d6f"
      },
      "execution_count": 13,
      "outputs": [
        {
          "output_type": "execute_result",
          "data": {
            "text/plain": [
              "(60000, 784)"
            ]
          },
          "metadata": {},
          "execution_count": 13
        }
      ]
    },
    {
      "cell_type": "code",
      "source": [
        "x_teste.shape"
      ],
      "metadata": {
        "colab": {
          "base_uri": "https://localhost:8080/"
        },
        "id": "4wO-xmSUFlvF",
        "outputId": "004d1eeb-dcf9-4ca7-9936-b516b53882fc"
      },
      "execution_count": 14,
      "outputs": [
        {
          "output_type": "execute_result",
          "data": {
            "text/plain": [
              "(10000, 784)"
            ]
          },
          "metadata": {},
          "execution_count": 14
        }
      ]
    },
    {
      "cell_type": "code",
      "source": [
        "y_treino = dataset[0][1]\n",
        "y_teste = dataset[1][1]"
      ],
      "metadata": {
        "id": "WqyKQcmyFvKP"
      },
      "execution_count": 15,
      "outputs": []
    },
    {
      "cell_type": "code",
      "source": [
        "y_treino_categ = to_categorical(y_treino,len(np.unique(y_treino)))"
      ],
      "metadata": {
        "id": "XxEwKQS0HIRZ"
      },
      "execution_count": 19,
      "outputs": []
    },
    {
      "cell_type": "code",
      "source": [
        "y_teste_categ = to_categorical(y_teste,len(np.unique(y_teste)))"
      ],
      "metadata": {
        "id": "2UPQ1yXYHm7v"
      },
      "execution_count": 20,
      "outputs": []
    },
    {
      "cell_type": "code",
      "source": [
        "model = Sequential()\n",
        "model.add(Input(shape=(qtd_linhas*qtd_colunas,)))\n",
        "model.add(Dense(144, activation='relu'))\n",
        "model.add(Dense(100, activation='relu'))\n",
        "model.add(Dense(len(np.unique(y_treino)), activation='softmax'))\n",
        "\n",
        "model.summary()"
      ],
      "metadata": {
        "colab": {
          "base_uri": "https://localhost:8080/"
        },
        "id": "ZmXL_PS2HvCI",
        "outputId": "31877005-a884-41b1-a741-ea86cde50dc3"
      },
      "execution_count": 23,
      "outputs": [
        {
          "output_type": "stream",
          "name": "stdout",
          "text": [
            "Model: \"sequential_1\"\n",
            "_________________________________________________________________\n",
            " Layer (type)                Output Shape              Param #   \n",
            "=================================================================\n",
            " dense_2 (Dense)             (None, 144)               113040    \n",
            "                                                                 \n",
            " dense_3 (Dense)             (None, 100)               14500     \n",
            "                                                                 \n",
            " dense_4 (Dense)             (None, 10)                1010      \n",
            "                                                                 \n",
            "=================================================================\n",
            "Total params: 128,550\n",
            "Trainable params: 128,550\n",
            "Non-trainable params: 0\n",
            "_________________________________________________________________\n"
          ]
        }
      ]
    },
    {
      "cell_type": "code",
      "source": [
        "model.compile(loss='categorical_crossentropy', metrics=['accuracy'])"
      ],
      "metadata": {
        "id": "1LWE4_W0JN__"
      },
      "execution_count": 28,
      "outputs": []
    },
    {
      "cell_type": "code",
      "source": [
        "tentativa_1 = model.fit(x_treino, y_treino_categ, validation_data = (x_teste,y_teste_categ ), epochs=20, batch_size = 1000)"
      ],
      "metadata": {
        "colab": {
          "base_uri": "https://localhost:8080/"
        },
        "id": "5lpuyWH5KDiX",
        "outputId": "1ca74abb-63db-473e-b86c-49bf9ff3a07c"
      },
      "execution_count": 31,
      "outputs": [
        {
          "output_type": "stream",
          "name": "stdout",
          "text": [
            "Epoch 1/20\n",
            "60/60 [==============================] - 4s 63ms/step - loss: 1.0035 - accuracy: 0.6942 - val_loss: 1.1076 - val_accuracy: 0.6744\n",
            "Epoch 2/20\n",
            "60/60 [==============================] - 4s 62ms/step - loss: 0.8521 - accuracy: 0.7056 - val_loss: 0.9312 - val_accuracy: 0.7049\n",
            "Epoch 3/20\n",
            "60/60 [==============================] - 3s 55ms/step - loss: 0.7667 - accuracy: 0.7223 - val_loss: 0.9085 - val_accuracy: 0.7216\n",
            "Epoch 4/20\n",
            "60/60 [==============================] - 3s 55ms/step - loss: 0.7076 - accuracy: 0.7327 - val_loss: 0.8535 - val_accuracy: 0.7297\n",
            "Epoch 5/20\n",
            "60/60 [==============================] - 4s 62ms/step - loss: 0.6687 - accuracy: 0.7444 - val_loss: 0.8400 - val_accuracy: 0.7507\n",
            "Epoch 6/20\n",
            "60/60 [==============================] - 4s 66ms/step - loss: 0.6463 - accuracy: 0.7550 - val_loss: 0.8500 - val_accuracy: 0.7465\n",
            "Epoch 7/20\n",
            "60/60 [==============================] - 4s 63ms/step - loss: 0.6195 - accuracy: 0.7661 - val_loss: 0.8726 - val_accuracy: 0.7506\n",
            "Epoch 8/20\n",
            "60/60 [==============================] - 4s 62ms/step - loss: 0.6030 - accuracy: 0.7765 - val_loss: 0.7969 - val_accuracy: 0.7635\n",
            "Epoch 9/20\n",
            "60/60 [==============================] - 4s 63ms/step - loss: 0.5922 - accuracy: 0.7784 - val_loss: 0.8203 - val_accuracy: 0.7666\n",
            "Epoch 10/20\n",
            "60/60 [==============================] - 3s 55ms/step - loss: 0.5824 - accuracy: 0.7811 - val_loss: 0.8366 - val_accuracy: 0.7734\n",
            "Epoch 11/20\n",
            "60/60 [==============================] - 3s 55ms/step - loss: 0.5710 - accuracy: 0.7862 - val_loss: 0.8259 - val_accuracy: 0.7724\n",
            "Epoch 12/20\n",
            "60/60 [==============================] - 3s 55ms/step - loss: 0.5641 - accuracy: 0.7866 - val_loss: 0.8472 - val_accuracy: 0.7808\n",
            "Epoch 13/20\n",
            "60/60 [==============================] - 3s 55ms/step - loss: 0.5570 - accuracy: 0.7863 - val_loss: 0.7847 - val_accuracy: 0.7665\n",
            "Epoch 14/20\n",
            "60/60 [==============================] - 4s 63ms/step - loss: 0.5601 - accuracy: 0.7886 - val_loss: 0.7975 - val_accuracy: 0.7732\n",
            "Epoch 15/20\n",
            "60/60 [==============================] - 3s 55ms/step - loss: 0.5460 - accuracy: 0.7909 - val_loss: 0.8166 - val_accuracy: 0.7791\n",
            "Epoch 16/20\n",
            "60/60 [==============================] - 3s 56ms/step - loss: 0.5427 - accuracy: 0.7929 - val_loss: 0.9322 - val_accuracy: 0.7701\n",
            "Epoch 17/20\n",
            "60/60 [==============================] - 3s 55ms/step - loss: 0.5332 - accuracy: 0.7940 - val_loss: 0.8561 - val_accuracy: 0.7769\n",
            "Epoch 18/20\n",
            "60/60 [==============================] - 4s 63ms/step - loss: 0.5355 - accuracy: 0.7946 - val_loss: 0.8428 - val_accuracy: 0.7819\n",
            "Epoch 19/20\n",
            "60/60 [==============================] - 4s 63ms/step - loss: 0.5220 - accuracy: 0.7958 - val_loss: 0.8203 - val_accuracy: 0.7825\n",
            "Epoch 20/20\n",
            "60/60 [==============================] - 6s 106ms/step - loss: 0.5229 - accuracy: 0.7962 - val_loss: 0.8985 - val_accuracy: 0.7755\n"
          ]
        }
      ]
    },
    {
      "cell_type": "code",
      "source": [
        "plt.plot(tentativa_1.history['loss'])"
      ],
      "metadata": {
        "colab": {
          "base_uri": "https://localhost:8080/",
          "height": 282
        },
        "id": "CimfCHVTNWBQ",
        "outputId": "78e08761-cdeb-4404-a740-b4f2cecaa0c0"
      },
      "execution_count": 33,
      "outputs": [
        {
          "output_type": "execute_result",
          "data": {
            "text/plain": [
              "[<matplotlib.lines.Line2D at 0x7fbb27114990>]"
            ]
          },
          "metadata": {},
          "execution_count": 33
        },
        {
          "output_type": "display_data",
          "data": {
            "text/plain": [
              "<Figure size 432x288 with 1 Axes>"
            ],
            "image/png": "[encoded data removed]"
          },
          "metadata": {
            "needs_background": "light"
          }
        }
      ]
    },
    {
      "cell_type": "code",
      "source": [
        "plt.plot(tentativa_1.history['accuracy'])"
      ],
      "metadata": {
        "colab": {
          "base_uri": "https://localhost:8080/",
          "height": 284
        },
        "id": "aQfMGKTmNXyo",
        "outputId": "0682b699-3193-4796-97f5-ea78aa2d81e2"
      },
      "execution_count": 34,
      "outputs": [
        {
          "output_type": "execute_result",
          "data": {
            "text/plain": [
              "[<matplotlib.lines.Line2D at 0x7fbb27080d90>]"
            ]
          },
          "metadata": {},
          "execution_count": 34
        },
        {
          "output_type": "display_data",
          "data": {
            "text/plain": [
              "<Figure size 432x288 with 1 Axes>"
            ],
            "image/png": "[encoded data removed]"
          },
          "metadata": {
            "needs_background": "light"
          }
        }
      ]
    },
    {
      "cell_type": "code",
      "source": [
        "x_treino_norm = x_treino/255"
      ],
      "metadata": {
        "id": "tL8I57oeNp0J"
      },
      "execution_count": 35,
      "outputs": []
    },
    {
      "cell_type": "code",
      "source": [
        "x_teste_norm = x_teste/255"
      ],
      "metadata": {
        "id": "0lriXB5zN0ig"
      },
      "execution_count": 36,
      "outputs": []
    },
    {
      "cell_type": "markdown",
      "source": [
        "Modelo 2 = Modelo Categorico com dados normalizados"
      ],
      "metadata": {
        "id": "Gd29YtY8N7oq"
      }
    },
    {
      "cell_type": "code",
      "source": [
        "model_2 = Sequential()\n",
        "model_2.add(Input(shape=(qtd_linhas*qtd_colunas,)))\n",
        "model_2.add(Dense(144, activation='relu'))\n",
        "model_2.add(Dense(100, activation='relu'))\n",
        "model_2.add(Dense(len(np.unique(y_treino)), activation='softmax'))\n",
        "\n",
        "model_2.summary()"
      ],
      "metadata": {
        "colab": {
          "base_uri": "https://localhost:8080/"
        },
        "id": "eRCtXHJfOAS7",
        "outputId": "26f49e91-f898-42ca-93e3-55b422fb9208"
      },
      "execution_count": 37,
      "outputs": [
        {
          "output_type": "stream",
          "name": "stdout",
          "text": [
            "Model: \"sequential_2\"\n",
            "_________________________________________________________________\n",
            " Layer (type)                Output Shape              Param #   \n",
            "=================================================================\n",
            " dense_5 (Dense)             (None, 144)               113040    \n",
            "                                                                 \n",
            " dense_6 (Dense)             (None, 100)               14500     \n",
            "                                                                 \n",
            " dense_7 (Dense)             (None, 10)                1010      \n",
            "                                                                 \n",
            "=================================================================\n",
            "Total params: 128,550\n",
            "Trainable params: 128,550\n",
            "Non-trainable params: 0\n",
            "_________________________________________________________________\n"
          ]
        }
      ]
    },
    {
      "cell_type": "code",
      "source": [
        "model_2.compile(loss='categorical_crossentropy', metrics=['accuracy'])"
      ],
      "metadata": {
        "id": "8CN-6wVQOGvS"
      },
      "execution_count": 39,
      "outputs": []
    },
    {
      "cell_type": "code",
      "source": [
        "tentativa_2 = model_2.fit(x_treino_norm, y_treino_categ, validation_data = (x_teste_norm,y_teste_categ ), epochs=20, batch_size = 1000)"
      ],
      "metadata": {
        "colab": {
          "base_uri": "https://localhost:8080/"
        },
        "id": "MncwDN1dOJtI",
        "outputId": "58fca768-0d48-449a-d6a7-1c7ed3ff0f48"
      },
      "execution_count": 40,
      "outputs": [
        {
          "output_type": "stream",
          "name": "stdout",
          "text": [
            "Epoch 1/20\n",
            "60/60 [==============================] - 2s 32ms/step - loss: 0.8738 - accuracy: 0.6983 - val_loss: 0.6142 - val_accuracy: 0.7826\n",
            "Epoch 2/20\n",
            "60/60 [==============================] - 2s 29ms/step - loss: 0.5615 - accuracy: 0.7993 - val_loss: 0.5196 - val_accuracy: 0.8141\n",
            "Epoch 3/20\n",
            "60/60 [==============================] - 1s 20ms/step - loss: 0.4907 - accuracy: 0.8238 - val_loss: 0.4596 - val_accuracy: 0.8372\n",
            "Epoch 4/20\n",
            "60/60 [==============================] - 1s 19ms/step - loss: 0.4471 - accuracy: 0.8399 - val_loss: 0.4988 - val_accuracy: 0.8147\n",
            "Epoch 5/20\n",
            "60/60 [==============================] - 1s 19ms/step - loss: 0.4186 - accuracy: 0.8457 - val_loss: 0.4292 - val_accuracy: 0.8420\n",
            "Epoch 6/20\n",
            "60/60 [==============================] - 1s 19ms/step - loss: 0.3924 - accuracy: 0.8555 - val_loss: 0.4390 - val_accuracy: 0.8430\n",
            "Epoch 7/20\n",
            "60/60 [==============================] - 1s 19ms/step - loss: 0.3729 - accuracy: 0.8640 - val_loss: 0.4057 - val_accuracy: 0.8522\n",
            "Epoch 8/20\n",
            "60/60 [==============================] - 1s 19ms/step - loss: 0.3587 - accuracy: 0.8680 - val_loss: 0.3756 - val_accuracy: 0.8659\n",
            "Epoch 9/20\n",
            "60/60 [==============================] - 1s 19ms/step - loss: 0.3469 - accuracy: 0.8722 - val_loss: 0.3858 - val_accuracy: 0.8591\n",
            "Epoch 10/20\n",
            "60/60 [==============================] - 1s 20ms/step - loss: 0.3302 - accuracy: 0.8780 - val_loss: 0.3760 - val_accuracy: 0.8633\n",
            "Epoch 11/20\n",
            "60/60 [==============================] - 1s 20ms/step - loss: 0.3246 - accuracy: 0.8792 - val_loss: 0.3481 - val_accuracy: 0.8757\n",
            "Epoch 12/20\n",
            "60/60 [==============================] - 1s 19ms/step - loss: 0.3117 - accuracy: 0.8845 - val_loss: 0.3718 - val_accuracy: 0.8647\n",
            "Epoch 13/20\n",
            "60/60 [==============================] - 1s 19ms/step - loss: 0.3062 - accuracy: 0.8858 - val_loss: 0.3728 - val_accuracy: 0.8646\n",
            "Epoch 14/20\n",
            "60/60 [==============================] - 1s 20ms/step - loss: 0.2975 - accuracy: 0.8881 - val_loss: 0.3532 - val_accuracy: 0.8693\n",
            "Epoch 15/20\n",
            "60/60 [==============================] - 1s 20ms/step - loss: 0.2888 - accuracy: 0.8923 - val_loss: 0.3368 - val_accuracy: 0.8771\n",
            "Epoch 16/20\n",
            "60/60 [==============================] - 1s 19ms/step - loss: 0.2831 - accuracy: 0.8945 - val_loss: 0.3660 - val_accuracy: 0.8683\n",
            "Epoch 17/20\n",
            "60/60 [==============================] - 1s 19ms/step - loss: 0.2750 - accuracy: 0.8970 - val_loss: 0.3269 - val_accuracy: 0.8797\n",
            "Epoch 18/20\n",
            "60/60 [==============================] - 1s 20ms/step - loss: 0.2698 - accuracy: 0.8998 - val_loss: 0.3444 - val_accuracy: 0.8773\n",
            "Epoch 19/20\n",
            "60/60 [==============================] - 1s 20ms/step - loss: 0.2659 - accuracy: 0.8999 - val_loss: 0.3306 - val_accuracy: 0.8808\n",
            "Epoch 20/20\n",
            "60/60 [==============================] - 1s 19ms/step - loss: 0.2581 - accuracy: 0.9027 - val_loss: 0.3469 - val_accuracy: 0.8731\n"
          ]
        }
      ]
    },
    {
      "cell_type": "code",
      "source": [
        "plt.plot(tentativa_1.history['loss'], '-b')\n",
        "plt.plot(tentativa_2.history['loss'], '-r')"
      ],
      "metadata": {
        "colab": {
          "base_uri": "https://localhost:8080/",
          "height": 282
        },
        "id": "R56g25tROehM",
        "outputId": "409394e1-c99c-49ff-a355-2daf765e6423"
      },
      "execution_count": 43,
      "outputs": [
        {
          "output_type": "execute_result",
          "data": {
            "text/plain": [
              "[<matplotlib.lines.Line2D at 0x7fbb26d9a110>]"
            ]
          },
          "metadata": {},
          "execution_count": 43
        },
        {
          "output_type": "display_data",
          "data": {
            "text/plain": [
              "<Figure size 432x288 with 1 Axes>"
            ],
            "image/png": "[encoded data removed]"
          },
          "metadata": {
            "needs_background": "light"
          }
        }
      ]
    },
    {
      "cell_type": "code",
      "source": [
        "plt.plot(tentativa_1.history['accuracy'], '-b')\n",
        "plt.plot(tentativa_2.history['accuracy'], '-r')"
      ],
      "metadata": {
        "colab": {
          "base_uri": "https://localhost:8080/",
          "height": 282
        },
        "id": "PMW-gTKBOhBL",
        "outputId": "20b5c377-ed48-47af-ef84-3f97bd4cf192"
      },
      "execution_count": 44,
      "outputs": [
        {
          "output_type": "execute_result",
          "data": {
            "text/plain": [
              "[<matplotlib.lines.Line2D at 0x7fbb26d03c50>]"
            ]
          },
          "metadata": {},
          "execution_count": 44
        },
        {
          "output_type": "display_data",
          "data": {
            "text/plain": [
              "<Figure size 432x288 with 1 Axes>"
            ],
            "image/png": "[encoded data removed]"
          },
          "metadata": {
            "needs_background": "light"
          }
        }
      ]
    }
  ]
}